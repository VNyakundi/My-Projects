{
 "cells": [
  {
   "cell_type": "code",
   "execution_count": 5,
   "id": "288e7224-3007-40b2-9eb2-4abb2481067a",
   "metadata": {},
   "outputs": [
    {
     "ename": "SyntaxError",
     "evalue": "invalid syntax (1600847698.py, line 25)",
     "output_type": "error",
     "traceback": [
      "\u001b[1;36m  Cell \u001b[1;32mIn[5], line 25\u001b[1;36m\u001b[0m\n\u001b[1;33m    data = request from json\u001b[0m\n\u001b[1;37m                   ^\u001b[0m\n\u001b[1;31mSyntaxError\u001b[0m\u001b[1;31m:\u001b[0m invalid syntax\n"
     ]
    }
   ],
   "source": [
    "from flask import Flask\n",
    "from flask_sqlalchemy import SQLAlchemy\n",
    "\n",
    "app = Flask(__name__)\n",
    "app.config['SQLALCHEMY_DATABASE_URI']='sqlite:///finance.db'\n",
    "db = SQLAlchemy(app)\n",
    "\n",
    "class Expense(db.Model):\n",
    "    id = db.Column(db.integer,primary_key=True)\n",
    "    amount = db.Column(db.Float, nullable = False)\n",
    "    category = db.Column(db.String(50),nullable=False)\n",
    "    date = db.Column(db.DateTime,nullable=False)\n",
    "class Profit(db.Model):\n",
    "    id = db.Column(db.Integer,primary_key=True)\n",
    "    amount = db.Column(db.Float,nullable=False)\n",
    "    date = db.Column(db.DateTime,nullable=False)\n",
    "    # Lets create the database..\n",
    "with app.app_context():\n",
    "    db.create_all()\n",
    "\n",
    "# API Endpoints\n",
    "# Add Expence\n",
    "@app.route('/add_expence',methods=['POST'])\n",
    "def add_expense():\n",
    "    data = request from json\n",
    "    new_expence = Expense(\n",
    "        amount=data['amount'],\n",
    "        category = data['category'],\n",
    "        date = datetime.strptime(data['date'],'%Y-%m-%d'\n",
    "    )\n",
    "    db.session.add(new_expense)\n",
    "    db.session.commit()\n",
    "    return jsonify({\"message\":\"Expense added successfully!\"}),201\n",
    "    \n",
    "#Add Profit\n",
    "@app.route('/add_profit',methoda=['POST'])\n",
    "def add_profit():\n",
    "    data=request.json\n",
    "    new_profit = Profit(\n",
    "        amount = data['amount']\n",
    "        date = datetime.strptime(data['date'],'%Y-%m-%d')\n",
    "    db.session.add(new_profit)\n",
    "    db.session.commit()\n",
    "    return jasonify({\"message\":\"Profit added successfully!\"}), 201\n",
    "    )\n",
    "\n",
    "#Get All profits\n",
    "@app.route('/profits',methods=['GET'])\n",
    "def get_profits():\n",
    "    profits = Profit.query.all()\n",
    "    return jasonify(\n",
    "        [{\"id\":p.id,\n",
    "          \"amount\":p.amount,\n",
    "          \"date\":p.date\n",
    "         } for p in profits]), 200\n",
    "\n",
    "# Calculate summary\n",
    "@app.route('/summary',methods=['GET'])\n",
    "def get_summary():\n",
    "    #Query Data\n",
    "    expenses = Expense.query.all()\n",
    "    profits = Profit.query.all()\n",
    "    #Convert to data frame\n",
    "    expense_df = pd.DataFrame([{\n",
    "        \"amount\":e.amount,\n",
    "        \"date\":e.date\n",
    "    } for e in expenses])\n",
    "    profit_df = pd.DataFrame([{\n",
    "        \"amount\":p.amount,\n",
    "        \"date\":p.date\n",
    "    } for p in profits])\n",
    "\n",
    "if __name__==\"__main__\":\n",
    "    app.run(debug=True)\n",
    "\n",
    "    \n"
   ]
  },
  {
   "cell_type": "code",
   "execution_count": null,
   "id": "8567676d-be80-47bb-b510-e85467b8c32c",
   "metadata": {},
   "outputs": [],
   "source": []
  }
 ],
 "metadata": {
  "kernelspec": {
   "display_name": "Python 3 (ipykernel)",
   "language": "python",
   "name": "python3"
  },
  "language_info": {
   "codemirror_mode": {
    "name": "ipython",
    "version": 3
   },
   "file_extension": ".py",
   "mimetype": "text/x-python",
   "name": "python",
   "nbconvert_exporter": "python",
   "pygments_lexer": "ipython3",
   "version": "3.11.7"
  }
 },
 "nbformat": 4,
 "nbformat_minor": 5
}
